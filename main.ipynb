{
 "cells": [
  {
   "cell_type": "code",
   "execution_count": 4,
   "metadata": {},
   "outputs": [],
   "source": [
    "import pandas as pd\n",
    "import numpy as np\n",
    "import seaborn as sns\n",
    "from yahoo_fin.stock_info import get_data\n",
    "from get_all_tickers import get_tickers as gt\n",
    "import matplotlib.pyplot as plt"
   ]
  },
  {
   "cell_type": "code",
   "execution_count": 5,
   "metadata": {},
   "outputs": [],
   "source": [
    "bonds = pd.read_csv(\"T10Y2Y.csv\")"
   ]
  },
  {
   "cell_type": "code",
   "execution_count": 6,
   "metadata": {},
   "outputs": [
    {
     "data": {
      "text/html": [
       "<div>\n",
       "<style scoped>\n",
       "    .dataframe tbody tr th:only-of-type {\n",
       "        vertical-align: middle;\n",
       "    }\n",
       "\n",
       "    .dataframe tbody tr th {\n",
       "        vertical-align: top;\n",
       "    }\n",
       "\n",
       "    .dataframe thead th {\n",
       "        text-align: right;\n",
       "    }\n",
       "</style>\n",
       "<table border=\"1\" class=\"dataframe\">\n",
       "  <thead>\n",
       "    <tr style=\"text-align: right;\">\n",
       "      <th></th>\n",
       "      <th>index</th>\n",
       "      <th>open</th>\n",
       "      <th>high</th>\n",
       "      <th>low</th>\n",
       "      <th>close</th>\n",
       "      <th>adjclose</th>\n",
       "      <th>volume</th>\n",
       "      <th>ticker</th>\n",
       "    </tr>\n",
       "  </thead>\n",
       "  <tbody>\n",
       "    <tr>\n",
       "      <th>0</th>\n",
       "      <td>2000-08-30</td>\n",
       "      <td>273.899994</td>\n",
       "      <td>273.899994</td>\n",
       "      <td>273.899994</td>\n",
       "      <td>273.899994</td>\n",
       "      <td>273.899994</td>\n",
       "      <td>0.0</td>\n",
       "      <td>GC=F</td>\n",
       "    </tr>\n",
       "    <tr>\n",
       "      <th>1</th>\n",
       "      <td>2000-08-31</td>\n",
       "      <td>274.799988</td>\n",
       "      <td>278.299988</td>\n",
       "      <td>274.799988</td>\n",
       "      <td>278.299988</td>\n",
       "      <td>278.299988</td>\n",
       "      <td>0.0</td>\n",
       "      <td>GC=F</td>\n",
       "    </tr>\n",
       "    <tr>\n",
       "      <th>2</th>\n",
       "      <td>2000-09-01</td>\n",
       "      <td>277.000000</td>\n",
       "      <td>277.000000</td>\n",
       "      <td>277.000000</td>\n",
       "      <td>277.000000</td>\n",
       "      <td>277.000000</td>\n",
       "      <td>0.0</td>\n",
       "      <td>GC=F</td>\n",
       "    </tr>\n",
       "    <tr>\n",
       "      <th>3</th>\n",
       "      <td>2000-09-04</td>\n",
       "      <td>NaN</td>\n",
       "      <td>NaN</td>\n",
       "      <td>NaN</td>\n",
       "      <td>NaN</td>\n",
       "      <td>NaN</td>\n",
       "      <td>NaN</td>\n",
       "      <td>GC=F</td>\n",
       "    </tr>\n",
       "    <tr>\n",
       "      <th>4</th>\n",
       "      <td>2000-09-05</td>\n",
       "      <td>275.799988</td>\n",
       "      <td>275.799988</td>\n",
       "      <td>275.799988</td>\n",
       "      <td>275.799988</td>\n",
       "      <td>275.799988</td>\n",
       "      <td>2.0</td>\n",
       "      <td>GC=F</td>\n",
       "    </tr>\n",
       "    <tr>\n",
       "      <th>...</th>\n",
       "      <td>...</td>\n",
       "      <td>...</td>\n",
       "      <td>...</td>\n",
       "      <td>...</td>\n",
       "      <td>...</td>\n",
       "      <td>...</td>\n",
       "      <td>...</td>\n",
       "      <td>...</td>\n",
       "    </tr>\n",
       "    <tr>\n",
       "      <th>5522</th>\n",
       "      <td>2022-05-09</td>\n",
       "      <td>1866.599976</td>\n",
       "      <td>1867.500000</td>\n",
       "      <td>1854.000000</td>\n",
       "      <td>1857.099976</td>\n",
       "      <td>1857.099976</td>\n",
       "      <td>304.0</td>\n",
       "      <td>GC=F</td>\n",
       "    </tr>\n",
       "    <tr>\n",
       "      <th>5523</th>\n",
       "      <td>2022-05-10</td>\n",
       "      <td>1839.900024</td>\n",
       "      <td>1839.900024</td>\n",
       "      <td>1839.900024</td>\n",
       "      <td>1839.900024</td>\n",
       "      <td>1839.900024</td>\n",
       "      <td>1540.0</td>\n",
       "      <td>GC=F</td>\n",
       "    </tr>\n",
       "    <tr>\n",
       "      <th>5524</th>\n",
       "      <td>2022-05-11</td>\n",
       "      <td>1841.500000</td>\n",
       "      <td>1852.599976</td>\n",
       "      <td>1841.000000</td>\n",
       "      <td>1852.599976</td>\n",
       "      <td>1852.599976</td>\n",
       "      <td>892.0</td>\n",
       "      <td>GC=F</td>\n",
       "    </tr>\n",
       "    <tr>\n",
       "      <th>5525</th>\n",
       "      <td>2022-05-12</td>\n",
       "      <td>1849.800049</td>\n",
       "      <td>1851.900024</td>\n",
       "      <td>1822.199951</td>\n",
       "      <td>1823.800049</td>\n",
       "      <td>1823.800049</td>\n",
       "      <td>153.0</td>\n",
       "      <td>GC=F</td>\n",
       "    </tr>\n",
       "    <tr>\n",
       "      <th>5526</th>\n",
       "      <td>2022-05-13</td>\n",
       "      <td>1821.400024</td>\n",
       "      <td>1827.599976</td>\n",
       "      <td>1797.199951</td>\n",
       "      <td>1810.300049</td>\n",
       "      <td>1810.300049</td>\n",
       "      <td>172127.0</td>\n",
       "      <td>GC=F</td>\n",
       "    </tr>\n",
       "  </tbody>\n",
       "</table>\n",
       "<p>5527 rows × 8 columns</p>\n",
       "</div>"
      ],
      "text/plain": [
       "          index         open         high          low        close  \\\n",
       "0    2000-08-30   273.899994   273.899994   273.899994   273.899994   \n",
       "1    2000-08-31   274.799988   278.299988   274.799988   278.299988   \n",
       "2    2000-09-01   277.000000   277.000000   277.000000   277.000000   \n",
       "3    2000-09-04          NaN          NaN          NaN          NaN   \n",
       "4    2000-09-05   275.799988   275.799988   275.799988   275.799988   \n",
       "...         ...          ...          ...          ...          ...   \n",
       "5522 2022-05-09  1866.599976  1867.500000  1854.000000  1857.099976   \n",
       "5523 2022-05-10  1839.900024  1839.900024  1839.900024  1839.900024   \n",
       "5524 2022-05-11  1841.500000  1852.599976  1841.000000  1852.599976   \n",
       "5525 2022-05-12  1849.800049  1851.900024  1822.199951  1823.800049   \n",
       "5526 2022-05-13  1821.400024  1827.599976  1797.199951  1810.300049   \n",
       "\n",
       "         adjclose    volume ticker  \n",
       "0      273.899994       0.0   GC=F  \n",
       "1      278.299988       0.0   GC=F  \n",
       "2      277.000000       0.0   GC=F  \n",
       "3             NaN       NaN   GC=F  \n",
       "4      275.799988       2.0   GC=F  \n",
       "...           ...       ...    ...  \n",
       "5522  1857.099976     304.0   GC=F  \n",
       "5523  1839.900024    1540.0   GC=F  \n",
       "5524  1852.599976     892.0   GC=F  \n",
       "5525  1823.800049     153.0   GC=F  \n",
       "5526  1810.300049  172127.0   GC=F  \n",
       "\n",
       "[5527 rows x 8 columns]"
      ]
     },
     "execution_count": 6,
     "metadata": {},
     "output_type": "execute_result"
    }
   ],
   "source": [
    "gold = get_data(\"GC=F\")\n",
    "gold = gold.reset_index()\n",
    "gold"
   ]
  },
  {
   "cell_type": "code",
   "execution_count": 7,
   "metadata": {},
   "outputs": [],
   "source": [
    "gold = gold[['index','close']]\n",
    "gold.columns = ['date','price']\n",
    "gold = gold.dropna()\n"
   ]
  },
  {
   "cell_type": "code",
   "execution_count": 8,
   "metadata": {},
   "outputs": [],
   "source": [
    "bonds=bonds[10:]\n",
    "bonds.info()"
   ]
  },
  {
   "cell_type": "code",
   "execution_count": 10,
   "metadata": {},
   "outputs": [],
   "source": [
    "bonds['DATE'] = pd.to_datetime(bonds['DATE'], yearfirst=True)"
   ]
  },
  {
   "cell_type": "code",
   "execution_count": 11,
   "metadata": {},
   "outputs": [
    {
     "name": "stdout",
     "output_type": "stream",
     "text": [
      "<class 'pandas.core.frame.DataFrame'>\n",
      "RangeIndex: 11940 entries, 10 to 11949\n",
      "Data columns (total 2 columns):\n",
      " #   Column  Non-Null Count  Dtype         \n",
      "---  ------  --------------  -----         \n",
      " 0   DATE    11940 non-null  datetime64[ns]\n",
      " 1   T10Y2Y  11940 non-null  object        \n",
      "dtypes: datetime64[ns](1), object(1)\n",
      "memory usage: 186.7+ KB\n"
     ]
    },
    {
     "data": {
      "text/html": [
       "<div>\n",
       "<style scoped>\n",
       "    .dataframe tbody tr th:only-of-type {\n",
       "        vertical-align: middle;\n",
       "    }\n",
       "\n",
       "    .dataframe tbody tr th {\n",
       "        vertical-align: top;\n",
       "    }\n",
       "\n",
       "    .dataframe thead th {\n",
       "        text-align: right;\n",
       "    }\n",
       "</style>\n",
       "<table border=\"1\" class=\"dataframe\">\n",
       "  <thead>\n",
       "    <tr style=\"text-align: right;\">\n",
       "      <th></th>\n",
       "      <th>date</th>\n",
       "      <th>yield</th>\n",
       "    </tr>\n",
       "  </thead>\n",
       "  <tbody>\n",
       "    <tr>\n",
       "      <th>10</th>\n",
       "      <td>1976-06-15</td>\n",
       "      <td>0.83</td>\n",
       "    </tr>\n",
       "    <tr>\n",
       "      <th>11</th>\n",
       "      <td>1976-06-16</td>\n",
       "      <td>0.81</td>\n",
       "    </tr>\n",
       "    <tr>\n",
       "      <th>12</th>\n",
       "      <td>1976-06-17</td>\n",
       "      <td>0.79</td>\n",
       "    </tr>\n",
       "    <tr>\n",
       "      <th>13</th>\n",
       "      <td>1976-06-18</td>\n",
       "      <td>0.82</td>\n",
       "    </tr>\n",
       "    <tr>\n",
       "      <th>14</th>\n",
       "      <td>1976-06-21</td>\n",
       "      <td>0.85</td>\n",
       "    </tr>\n",
       "    <tr>\n",
       "      <th>...</th>\n",
       "      <td>...</td>\n",
       "      <td>...</td>\n",
       "    </tr>\n",
       "    <tr>\n",
       "      <th>11945</th>\n",
       "      <td>2022-03-15</td>\n",
       "      <td>0.3</td>\n",
       "    </tr>\n",
       "    <tr>\n",
       "      <th>11946</th>\n",
       "      <td>2022-03-16</td>\n",
       "      <td>0.24</td>\n",
       "    </tr>\n",
       "    <tr>\n",
       "      <th>11947</th>\n",
       "      <td>2022-03-17</td>\n",
       "      <td>0.26</td>\n",
       "    </tr>\n",
       "    <tr>\n",
       "      <th>11948</th>\n",
       "      <td>2022-03-18</td>\n",
       "      <td>0.17</td>\n",
       "    </tr>\n",
       "    <tr>\n",
       "      <th>11949</th>\n",
       "      <td>2022-03-21</td>\n",
       "      <td>0.18</td>\n",
       "    </tr>\n",
       "  </tbody>\n",
       "</table>\n",
       "<p>11940 rows × 2 columns</p>\n",
       "</div>"
      ],
      "text/plain": [
       "            date yield\n",
       "10    1976-06-15  0.83\n",
       "11    1976-06-16  0.81\n",
       "12    1976-06-17  0.79\n",
       "13    1976-06-18  0.82\n",
       "14    1976-06-21  0.85\n",
       "...          ...   ...\n",
       "11945 2022-03-15   0.3\n",
       "11946 2022-03-16  0.24\n",
       "11947 2022-03-17  0.26\n",
       "11948 2022-03-18  0.17\n",
       "11949 2022-03-21  0.18\n",
       "\n",
       "[11940 rows x 2 columns]"
      ]
     },
     "execution_count": 11,
     "metadata": {},
     "output_type": "execute_result"
    }
   ],
   "source": [
    "bonds.columns=[\"date\",\"yield\"]\n",
    "bonds"
   ]
  },
  {
   "cell_type": "code",
   "execution_count": 12,
   "metadata": {},
   "outputs": [],
   "source": [
    "bonds['yield'] = pd.to_numeric(bonds['yield'], errors='coerce')"
   ]
  },
  {
   "cell_type": "code",
   "execution_count": 13,
   "metadata": {},
   "outputs": [
    {
     "data": {
      "text/plain": [
       "<AxesSubplot:xlabel='date', ylabel='yield'>"
      ]
     },
     "execution_count": 13,
     "metadata": {},
     "output_type": "execute_result"
    },
    {
     "data": {
      "image/png": "[encoded data removed]",
      "text/plain": [
       "<Figure size 432x288 with 1 Axes>"
      ]
     },
     "metadata": {
      "needs_background": "light"
     },
     "output_type": "display_data"
    }
   ],
   "source": [
    "sns.lineplot(x=bonds[bonds['yield']<0]['date'], y=bonds[bonds['yield']<0]['yield'])"
   ]
  },
  {
   "cell_type": "code",
   "execution_count": 14,
   "metadata": {},
   "outputs": [],
   "source": [
    "bonds_negative = bonds[(bonds['yield']<0) & (bonds['date'].dt.year>1984)]"
   ]
  },
  {
   "cell_type": "code",
   "execution_count": 15,
   "metadata": {},
   "outputs": [],
   "source": [
    "pd.merge(bonds,gold).to_excel(\"gold_vs_10-2ybonds.xlsx\")"
   ]
  },
  {
   "cell_type": "code",
   "execution_count": 16,
   "metadata": {},
   "outputs": [
    {
     "data": {
      "text/html": [
       "<div>\n",
       "<style scoped>\n",
       "    .dataframe tbody tr th:only-of-type {\n",
       "        vertical-align: middle;\n",
       "    }\n",
       "\n",
       "    .dataframe tbody tr th {\n",
       "        vertical-align: top;\n",
       "    }\n",
       "\n",
       "    .dataframe thead th {\n",
       "        text-align: right;\n",
       "    }\n",
       "</style>\n",
       "<table border=\"1\" class=\"dataframe\">\n",
       "  <thead>\n",
       "    <tr style=\"text-align: right;\">\n",
       "      <th></th>\n",
       "      <th>date</th>\n",
       "      <th>yield</th>\n",
       "      <th>price</th>\n",
       "    </tr>\n",
       "  </thead>\n",
       "  <tbody>\n",
       "    <tr>\n",
       "      <th>0</th>\n",
       "      <td>2000-08-30</td>\n",
       "      <td>-0.43</td>\n",
       "      <td>273.899994</td>\n",
       "    </tr>\n",
       "    <tr>\n",
       "      <th>1</th>\n",
       "      <td>2000-08-31</td>\n",
       "      <td>-0.45</td>\n",
       "      <td>278.299988</td>\n",
       "    </tr>\n",
       "    <tr>\n",
       "      <th>2</th>\n",
       "      <td>2000-09-01</td>\n",
       "      <td>-0.41</td>\n",
       "      <td>277.000000</td>\n",
       "    </tr>\n",
       "    <tr>\n",
       "      <th>3</th>\n",
       "      <td>2000-09-05</td>\n",
       "      <td>-0.40</td>\n",
       "      <td>275.799988</td>\n",
       "    </tr>\n",
       "    <tr>\n",
       "      <th>4</th>\n",
       "      <td>2000-09-06</td>\n",
       "      <td>-0.39</td>\n",
       "      <td>274.200012</td>\n",
       "    </tr>\n",
       "    <tr>\n",
       "      <th>...</th>\n",
       "      <td>...</td>\n",
       "      <td>...</td>\n",
       "      <td>...</td>\n",
       "    </tr>\n",
       "    <tr>\n",
       "      <th>315</th>\n",
       "      <td>2007-06-04</td>\n",
       "      <td>-0.04</td>\n",
       "      <td>670.700012</td>\n",
       "    </tr>\n",
       "    <tr>\n",
       "      <th>316</th>\n",
       "      <td>2007-06-05</td>\n",
       "      <td>-0.01</td>\n",
       "      <td>669.599976</td>\n",
       "    </tr>\n",
       "    <tr>\n",
       "      <th>317</th>\n",
       "      <td>2019-08-27</td>\n",
       "      <td>-0.04</td>\n",
       "      <td>1541.000000</td>\n",
       "    </tr>\n",
       "    <tr>\n",
       "      <th>318</th>\n",
       "      <td>2019-08-28</td>\n",
       "      <td>-0.03</td>\n",
       "      <td>1537.800049</td>\n",
       "    </tr>\n",
       "    <tr>\n",
       "      <th>319</th>\n",
       "      <td>2019-08-29</td>\n",
       "      <td>-0.03</td>\n",
       "      <td>1526.500000</td>\n",
       "    </tr>\n",
       "  </tbody>\n",
       "</table>\n",
       "<p>320 rows × 3 columns</p>\n",
       "</div>"
      ],
      "text/plain": [
       "          date  yield        price\n",
       "0   2000-08-30  -0.43   273.899994\n",
       "1   2000-08-31  -0.45   278.299988\n",
       "2   2000-09-01  -0.41   277.000000\n",
       "3   2000-09-05  -0.40   275.799988\n",
       "4   2000-09-06  -0.39   274.200012\n",
       "..         ...    ...          ...\n",
       "315 2007-06-04  -0.04   670.700012\n",
       "316 2007-06-05  -0.01   669.599976\n",
       "317 2019-08-27  -0.04  1541.000000\n",
       "318 2019-08-28  -0.03  1537.800049\n",
       "319 2019-08-29  -0.03  1526.500000\n",
       "\n",
       "[320 rows x 3 columns]"
      ]
     },
     "execution_count": 16,
     "metadata": {},
     "output_type": "execute_result"
    }
   ],
   "source": [
    "gold_price_when_bonds_negative=pd.merge(bonds_negative,gold)\n",
    "gold_price_when_bonds_negative"
   ]
  },
  {
   "cell_type": "code",
   "execution_count": 25,
   "metadata": {},
   "outputs": [
    {
     "data": {
      "text/plain": [
       "0.28216713589194503"
      ]
     },
     "execution_count": 25,
     "metadata": {},
     "output_type": "execute_result"
    }
   ],
   "source": [
    "gold.diff().mean()[1]"
   ]
  },
  {
   "cell_type": "code",
   "execution_count": 26,
   "metadata": {},
   "outputs": [
    {
     "data": {
      "text/plain": [
       "0.12050165790893044"
      ]
     },
     "execution_count": 26,
     "metadata": {},
     "output_type": "execute_result"
    }
   ],
   "source": [
    "gold_price_when_bonds_negative_diff=gold_price_when_bonds_negative.diff()\n",
    "gold_price_when_bonds_negative_diff[gold_price_when_bonds_negative_diff['date']=='1 days'].mean()[2]"
   ]
  },
  {
   "cell_type": "code",
   "execution_count": 27,
   "metadata": {},
   "outputs": [
    {
     "data": {
      "text/plain": [
       "2.341603765362248"
      ]
     },
     "execution_count": 27,
     "metadata": {},
     "output_type": "execute_result"
    }
   ],
   "source": [
    "gold.diff().mean()[1]/gold_price_when_bonds_negative_diff[gold_price_when_bonds_negative_diff['date']=='1 days'].mean()[2]"
   ]
  },
  {
   "cell_type": "markdown",
   "metadata": {},
   "source": [
    "## Gold prices have grown 2.34x slower when 10y-2y yield curve was inverted wheen compared to all-time growth"
   ]
  },
  {
   "cell_type": "markdown",
   "metadata": {},
   "source": []
  }
 ],
 "metadata": {
  "interpreter": {
   "hash": "c557fd3014d78f8f57be1ea270857b385d3ccaa1509f677e7b9fa6ca848df2b5"
  },
  "kernelspec": {
   "display_name": "Python 3.9.10 64-bit (windows store)",
   "language": "python",
   "name": "python3"
  },
  "language_info": {
   "codemirror_mode": {
    "name": "ipython",
    "version": 3
   },
   "file_extension": ".py",
   "mimetype": "text/x-python",
   "name": "python",
   "nbconvert_exporter": "python",
   "pygments_lexer": "ipython3",
   "version": "3.9.12"
  },
  "orig_nbformat": 4
 },
 "nbformat": 4,
 "nbformat_minor": 2
}
